{
 "cells": [
  {
   "cell_type": "code",
   "execution_count": 4,
   "id": "d6b646ef-3cf9-4447-a302-be39d70e0889",
   "metadata": {},
   "outputs": [],
   "source": [
    "#import libraries and dependencies\n",
    "\n",
    "import numpy as np\n",
    "import pandas as pd\n",
    "import yfinance as yf\n",
    "import matplotlib.pyplot as plt"
   ]
  },
  {
   "cell_type": "code",
   "execution_count": 5,
   "id": "73602cb8-f818-44f5-9ca8-4e2c88cb0a0f",
   "metadata": {},
   "outputs": [
    {
     "name": "stdout",
     "output_type": "stream",
     "text": [
      "[*********************100%***********************]  1 of 1 completed\n"
     ]
    },
    {
     "data": {
      "text/html": [
       "<div>\n",
       "<style scoped>\n",
       "    .dataframe tbody tr th:only-of-type {\n",
       "        vertical-align: middle;\n",
       "    }\n",
       "\n",
       "    .dataframe tbody tr th {\n",
       "        vertical-align: top;\n",
       "    }\n",
       "\n",
       "    .dataframe thead th {\n",
       "        text-align: right;\n",
       "    }\n",
       "</style>\n",
       "<table border=\"1\" class=\"dataframe\">\n",
       "  <thead>\n",
       "    <tr style=\"text-align: right;\">\n",
       "      <th></th>\n",
       "      <th>Open</th>\n",
       "      <th>High</th>\n",
       "      <th>Low</th>\n",
       "      <th>Close</th>\n",
       "      <th>Volume</th>\n",
       "    </tr>\n",
       "    <tr>\n",
       "      <th>Date</th>\n",
       "      <th></th>\n",
       "      <th></th>\n",
       "      <th></th>\n",
       "      <th></th>\n",
       "      <th></th>\n",
       "    </tr>\n",
       "  </thead>\n",
       "  <tbody>\n",
       "    <tr>\n",
       "      <th>2018-01-02</th>\n",
       "      <td>45.910000</td>\n",
       "      <td>45.939999</td>\n",
       "      <td>45.509998</td>\n",
       "      <td>45.540001</td>\n",
       "      <td>10872200</td>\n",
       "    </tr>\n",
       "    <tr>\n",
       "      <th>2018-01-03</th>\n",
       "      <td>45.490002</td>\n",
       "      <td>45.689999</td>\n",
       "      <td>45.340000</td>\n",
       "      <td>45.439999</td>\n",
       "      <td>12635600</td>\n",
       "    </tr>\n",
       "    <tr>\n",
       "      <th>2018-01-04</th>\n",
       "      <td>45.560001</td>\n",
       "      <td>46.220001</td>\n",
       "      <td>45.450001</td>\n",
       "      <td>46.080002</td>\n",
       "      <td>12709400</td>\n",
       "    </tr>\n",
       "    <tr>\n",
       "      <th>2018-01-05</th>\n",
       "      <td>46.020000</td>\n",
       "      <td>46.200001</td>\n",
       "      <td>45.790001</td>\n",
       "      <td>46.070000</td>\n",
       "      <td>13113100</td>\n",
       "    </tr>\n",
       "    <tr>\n",
       "      <th>2018-01-08</th>\n",
       "      <td>45.950001</td>\n",
       "      <td>46.099998</td>\n",
       "      <td>45.880001</td>\n",
       "      <td>46.000000</td>\n",
       "      <td>7068600</td>\n",
       "    </tr>\n",
       "    <tr>\n",
       "      <th>...</th>\n",
       "      <td>...</td>\n",
       "      <td>...</td>\n",
       "      <td>...</td>\n",
       "      <td>...</td>\n",
       "      <td>...</td>\n",
       "    </tr>\n",
       "    <tr>\n",
       "      <th>2022-04-07</th>\n",
       "      <td>63.130001</td>\n",
       "      <td>63.669998</td>\n",
       "      <td>62.709999</td>\n",
       "      <td>63.439999</td>\n",
       "      <td>13960800</td>\n",
       "    </tr>\n",
       "    <tr>\n",
       "      <th>2022-04-08</th>\n",
       "      <td>63.480000</td>\n",
       "      <td>64.040001</td>\n",
       "      <td>63.160000</td>\n",
       "      <td>63.830002</td>\n",
       "      <td>12702700</td>\n",
       "    </tr>\n",
       "    <tr>\n",
       "      <th>2022-04-11</th>\n",
       "      <td>63.910000</td>\n",
       "      <td>64.300003</td>\n",
       "      <td>63.639999</td>\n",
       "      <td>63.810001</td>\n",
       "      <td>12720100</td>\n",
       "    </tr>\n",
       "    <tr>\n",
       "      <th>2022-04-12</th>\n",
       "      <td>64.379997</td>\n",
       "      <td>64.809998</td>\n",
       "      <td>63.889999</td>\n",
       "      <td>64.559998</td>\n",
       "      <td>18089900</td>\n",
       "    </tr>\n",
       "    <tr>\n",
       "      <th>2022-04-13</th>\n",
       "      <td>64.440002</td>\n",
       "      <td>64.870003</td>\n",
       "      <td>64.230003</td>\n",
       "      <td>64.730003</td>\n",
       "      <td>11883000</td>\n",
       "    </tr>\n",
       "  </tbody>\n",
       "</table>\n",
       "<p>1079 rows × 5 columns</p>\n",
       "</div>"
      ],
      "text/plain": [
       "                 Open       High        Low      Close    Volume\n",
       "Date                                                            \n",
       "2018-01-02  45.910000  45.939999  45.509998  45.540001  10872200\n",
       "2018-01-03  45.490002  45.689999  45.340000  45.439999  12635600\n",
       "2018-01-04  45.560001  46.220001  45.450001  46.080002  12709400\n",
       "2018-01-05  46.020000  46.200001  45.790001  46.070000  13113100\n",
       "2018-01-08  45.950001  46.099998  45.880001  46.000000   7068600\n",
       "...               ...        ...        ...        ...       ...\n",
       "2022-04-07  63.130001  63.669998  62.709999  63.439999  13960800\n",
       "2022-04-08  63.480000  64.040001  63.160000  63.830002  12702700\n",
       "2022-04-11  63.910000  64.300003  63.639999  63.810001  12720100\n",
       "2022-04-12  64.379997  64.809998  63.889999  64.559998  18089900\n",
       "2022-04-13  64.440002  64.870003  64.230003  64.730003  11883000\n",
       "\n",
       "[1079 rows x 5 columns]"
      ]
     },
     "execution_count": 5,
     "metadata": {},
     "output_type": "execute_result"
    }
   ],
   "source": [
    "# downloading stock data\n",
    "\n",
    "stock = 'ko'\n",
    "\n",
    "# Call dataset\n",
    "data = yf.download(stock, '2018-01-01', '2022-04-14').drop(columns='Adj Close')\n",
    "\n",
    "data"
   ]
  },
  {
   "cell_type": "code",
   "execution_count": 6,
   "id": "934a70a5-82f3-4e74-8764-60f1baa634bd",
   "metadata": {},
   "outputs": [],
   "source": [
    "# RSI Strategy parameter and thresholds\n",
    "rsi_days = 14\n",
    "rsi_oversold = 30\n",
    "rsi_overbought = 70\n",
    "fee = 0.005\n"
   ]
  },
  {
   "cell_type": "code",
   "execution_count": 7,
   "id": "14570bd7-3a74-4b69-836b-b1f33279d3b4",
   "metadata": {},
   "outputs": [],
   "source": [
    "# TA signals\n",
    "data['returns'] = data['Close'].pct_change()\n",
    "# Upward movement\n",
    "data['Up'] = np.maximum(data['Close'].diff(),0)\n",
    "data['Down'] = np.maximum(-data['Close'].diff(),0)\n",
    "data['RS'] = data['Up'].rolling(rsi_days).mean()/data['Down'].rolling(rsi_days).mean()\n",
    "data['RSI'] = 100 - 100/(1 + data['RS'])\n",
    "                       "
   ]
  },
  {
   "cell_type": "code",
   "execution_count": 8,
   "id": "9d4e77b4-3b75-42f0-9fe0-551fd57b7c06",
   "metadata": {},
   "outputs": [],
   "source": [
    "# simulate strategy\n",
    "start = rsi_days\n",
    "data['signal'] = 1*(data['RSI'] < rsi_oversold) - 1*(data['RSI'] > rsi_overbought)\n"
   ]
  },
  {
   "cell_type": "code",
   "execution_count": 9,
   "id": "563122ba-6af9-49ed-a76a-bb3367da363c",
   "metadata": {},
   "outputs": [],
   "source": [
    "# Buy and Hold strategy\n",
    "BnH_returns = np.array(data['returns'][start+1:])\n",
    "BnH = np.prod(1+BnH_returns)**(252/len(BnH_returns)) -1\n",
    "BnH_risk = np.std(BnH_returns)*(252)**(1/2)"
   ]
  },
  {
   "cell_type": "code",
   "execution_count": 10,
   "id": "8f38b684-318d-40c9-b236-ac02ab4fc58b",
   "metadata": {},
   "outputs": [],
   "source": [
    "# RSI strategy\n",
    "RSI_return = np.array(data['returns'][start+1:])*np.array(data['signal'][start:-1])\n",
    "RSI = np.prod(1+RSI_return)**(252/len(RSI_return)) -1\n",
    "RSI_risk = np.std(RSI_return)*(252)**(1/2)"
   ]
  },
  {
   "cell_type": "code",
   "execution_count": 11,
   "id": "d9848014-b196-4ebb-8c36-aa851f039b6e",
   "metadata": {},
   "outputs": [
    {
     "name": "stdout",
     "output_type": "stream",
     "text": [
      "buy/hold strategy return and risk: 7.63% and 21.98%\n",
      "RSI strategy return and risk: 14.49% and 10.57%\n"
     ]
    }
   ],
   "source": [
    "#visualizing the results\n",
    "print('buy/hold strategy return and risk: '+str(round(BnH*100,2))+'% and '+str(round(BnH_risk*100,2))+'%')\n",
    "print('RSI strategy return and risk: '+str(round(RSI*100,2))+'% and '+str(round(RSI_risk*100,2))+'%')"
   ]
  },
  {
   "cell_type": "code",
   "execution_count": 12,
   "id": "eceb9971-a117-4f13-8170-7e9185886a3a",
   "metadata": {},
   "outputs": [
    {
     "data": {
      "text/plain": [
       "[<matplotlib.lines.Line2D at 0x7ff120c0c8d0>]"
      ]
     },
     "execution_count": 12,
     "metadata": {},
     "output_type": "execute_result"
    },
    {
     "data": {
      "image/png": "[encoded data removed]",
      "text/plain": [
       "<Figure size 432x288 with 1 Axes>"
      ]
     },
     "metadata": {
      "needs_background": "light"
     },
     "output_type": "display_data"
    }
   ],
   "source": [
    "# Plot\n",
    "plt.plot(np.append(1,np.cumprod(1+BnH_returns)))\n",
    "plt.plot(np.append(1,np.cumprod(1+RSI_return)))"
   ]
  },
  {
   "cell_type": "code",
   "execution_count": null,
   "id": "59f4c67c-558c-4fce-843e-1ae320948aa9",
   "metadata": {},
   "outputs": [],
   "source": []
  },
  {
   "cell_type": "code",
   "execution_count": null,
   "id": "823ee962-a35a-484d-a51f-915f433ee294",
   "metadata": {},
   "outputs": [],
   "source": []
  }
 ],
 "metadata": {
  "kernelspec": {
   "display_name": "Python 3 (ipykernel)",
   "language": "python",
   "name": "python3"
  },
  "language_info": {
   "codemirror_mode": {
    "name": "ipython",
    "version": 3
   },
   "file_extension": ".py",
   "mimetype": "text/x-python",
   "name": "python",
   "nbconvert_exporter": "python",
   "pygments_lexer": "ipython3",
   "version": "3.7.11"
  }
 },
 "nbformat": 4,
 "nbformat_minor": 5
}
