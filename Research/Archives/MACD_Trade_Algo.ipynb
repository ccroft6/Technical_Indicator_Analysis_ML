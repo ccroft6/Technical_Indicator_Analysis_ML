{
 "cells": [
  {
   "cell_type": "code",
   "execution_count": 1,
   "id": "04b2951a-825f-4807-b034-46fca75df79d",
   "metadata": {},
   "outputs": [],
   "source": [
    "#import libraries and dependencies\n",
    "\n",
    "import numpy as np\n",
    "import pandas as pd\n",
    "import yfinance as yf\n",
    "import matplotlib.pyplot as plt"
   ]
  },
  {
   "cell_type": "code",
   "execution_count": 2,
   "id": "8ba35e0b-5cd9-40fa-a671-84cd5bfbddf5",
   "metadata": {},
   "outputs": [
    {
     "name": "stdout",
     "output_type": "stream",
     "text": [
      "[*********************100%***********************]  1 of 1 completed\n"
     ]
    },
    {
     "data": {
      "text/html": [
       "<div>\n",
       "<style scoped>\n",
       "    .dataframe tbody tr th:only-of-type {\n",
       "        vertical-align: middle;\n",
       "    }\n",
       "\n",
       "    .dataframe tbody tr th {\n",
       "        vertical-align: top;\n",
       "    }\n",
       "\n",
       "    .dataframe thead th {\n",
       "        text-align: right;\n",
       "    }\n",
       "</style>\n",
       "<table border=\"1\" class=\"dataframe\">\n",
       "  <thead>\n",
       "    <tr style=\"text-align: right;\">\n",
       "      <th></th>\n",
       "      <th>Open</th>\n",
       "      <th>High</th>\n",
       "      <th>Low</th>\n",
       "      <th>Close</th>\n",
       "      <th>Volume</th>\n",
       "    </tr>\n",
       "    <tr>\n",
       "      <th>Date</th>\n",
       "      <th></th>\n",
       "      <th></th>\n",
       "      <th></th>\n",
       "      <th></th>\n",
       "      <th></th>\n",
       "    </tr>\n",
       "  </thead>\n",
       "  <tbody>\n",
       "    <tr>\n",
       "      <th>2017-01-03</th>\n",
       "      <td>28.950001</td>\n",
       "      <td>29.082500</td>\n",
       "      <td>28.690001</td>\n",
       "      <td>29.037500</td>\n",
       "      <td>115127600</td>\n",
       "    </tr>\n",
       "    <tr>\n",
       "      <th>2017-01-04</th>\n",
       "      <td>28.962500</td>\n",
       "      <td>29.127501</td>\n",
       "      <td>28.937500</td>\n",
       "      <td>29.004999</td>\n",
       "      <td>84472400</td>\n",
       "    </tr>\n",
       "    <tr>\n",
       "      <th>2017-01-05</th>\n",
       "      <td>28.980000</td>\n",
       "      <td>29.215000</td>\n",
       "      <td>28.952499</td>\n",
       "      <td>29.152500</td>\n",
       "      <td>88774400</td>\n",
       "    </tr>\n",
       "    <tr>\n",
       "      <th>2017-01-06</th>\n",
       "      <td>29.195000</td>\n",
       "      <td>29.540001</td>\n",
       "      <td>29.117500</td>\n",
       "      <td>29.477501</td>\n",
       "      <td>127007600</td>\n",
       "    </tr>\n",
       "    <tr>\n",
       "      <th>2017-01-09</th>\n",
       "      <td>29.487499</td>\n",
       "      <td>29.857500</td>\n",
       "      <td>29.485001</td>\n",
       "      <td>29.747499</td>\n",
       "      <td>134247600</td>\n",
       "    </tr>\n",
       "    <tr>\n",
       "      <th>...</th>\n",
       "      <td>...</td>\n",
       "      <td>...</td>\n",
       "      <td>...</td>\n",
       "      <td>...</td>\n",
       "      <td>...</td>\n",
       "    </tr>\n",
       "    <tr>\n",
       "      <th>2022-04-07</th>\n",
       "      <td>171.160004</td>\n",
       "      <td>173.360001</td>\n",
       "      <td>169.850006</td>\n",
       "      <td>172.139999</td>\n",
       "      <td>77594700</td>\n",
       "    </tr>\n",
       "    <tr>\n",
       "      <th>2022-04-08</th>\n",
       "      <td>171.779999</td>\n",
       "      <td>171.779999</td>\n",
       "      <td>169.199997</td>\n",
       "      <td>170.089996</td>\n",
       "      <td>76515900</td>\n",
       "    </tr>\n",
       "    <tr>\n",
       "      <th>2022-04-11</th>\n",
       "      <td>168.710007</td>\n",
       "      <td>169.029999</td>\n",
       "      <td>165.500000</td>\n",
       "      <td>165.750000</td>\n",
       "      <td>72246700</td>\n",
       "    </tr>\n",
       "    <tr>\n",
       "      <th>2022-04-12</th>\n",
       "      <td>168.020004</td>\n",
       "      <td>169.869995</td>\n",
       "      <td>166.639999</td>\n",
       "      <td>167.660004</td>\n",
       "      <td>79265200</td>\n",
       "    </tr>\n",
       "    <tr>\n",
       "      <th>2022-04-13</th>\n",
       "      <td>167.389999</td>\n",
       "      <td>171.039993</td>\n",
       "      <td>166.770004</td>\n",
       "      <td>170.399994</td>\n",
       "      <td>70618900</td>\n",
       "    </tr>\n",
       "  </tbody>\n",
       "</table>\n",
       "<p>1330 rows × 5 columns</p>\n",
       "</div>"
      ],
      "text/plain": [
       "                  Open        High         Low       Close     Volume\n",
       "Date                                                                 \n",
       "2017-01-03   28.950001   29.082500   28.690001   29.037500  115127600\n",
       "2017-01-04   28.962500   29.127501   28.937500   29.004999   84472400\n",
       "2017-01-05   28.980000   29.215000   28.952499   29.152500   88774400\n",
       "2017-01-06   29.195000   29.540001   29.117500   29.477501  127007600\n",
       "2017-01-09   29.487499   29.857500   29.485001   29.747499  134247600\n",
       "...                ...         ...         ...         ...        ...\n",
       "2022-04-07  171.160004  173.360001  169.850006  172.139999   77594700\n",
       "2022-04-08  171.779999  171.779999  169.199997  170.089996   76515900\n",
       "2022-04-11  168.710007  169.029999  165.500000  165.750000   72246700\n",
       "2022-04-12  168.020004  169.869995  166.639999  167.660004   79265200\n",
       "2022-04-13  167.389999  171.039993  166.770004  170.399994   70618900\n",
       "\n",
       "[1330 rows x 5 columns]"
      ]
     },
     "execution_count": 2,
     "metadata": {},
     "output_type": "execute_result"
    }
   ],
   "source": [
    "# downloading stock data\n",
    "\n",
    "stock = 'AAPL'\n",
    "data = yf.download(stock, '2017-01-01', '2022-04-14').drop(columns='Adj Close')\n",
    "\n",
    "data"
   ]
  },
  {
   "cell_type": "code",
   "execution_count": 3,
   "id": "e01215ff-e5a8-4fde-8960-a54e1721d705",
   "metadata": {},
   "outputs": [],
   "source": [
    "# Strategy parameters\n",
    "short_ma = 5\n",
    "long_ma = 12"
   ]
  },
  {
   "cell_type": "code",
   "execution_count": 4,
   "id": "c2590881-6ea5-47a0-852a-f9532efcabfc",
   "metadata": {},
   "outputs": [
    {
     "name": "stdout",
     "output_type": "stream",
     "text": [
      "Date\n",
      "2017-01-03         NaN\n",
      "2017-01-04   -0.001119\n",
      "2017-01-05    0.005085\n",
      "2017-01-06    0.011148\n",
      "2017-01-09    0.009159\n",
      "Name: return, dtype: float64\n"
     ]
    }
   ],
   "source": [
    "#coding technical analysis signals\n",
    "\n",
    "data['MA' +str(short_ma)] = data['Close'].rolling(short_ma).mean()\n",
    "data['MA' +str(long_ma)] = data['Close'].rolling(long_ma).mean()\n",
    "data['return'] = data['Close'].pct_change()\n",
    "\n",
    "print(data['return'].head())"
   ]
  },
  {
   "cell_type": "code",
   "execution_count": 5,
   "id": "c120ed49-452a-467b-b416-ea9742e5f062",
   "metadata": {
    "tags": []
   },
   "outputs": [],
   "source": [
    "#simulating trading strategies\n",
    "start = long_ma\n",
    "data['signal'] = 2*(data['MA'+str(short_ma)] > data['MA'+str(long_ma)]) -1"
   ]
  },
  {
   "cell_type": "code",
   "execution_count": 6,
   "id": "affa4d55-17b3-4bc6-9a5a-4f3b9b8a72ee",
   "metadata": {},
   "outputs": [],
   "source": [
    "# Buy and Hold strategy\n",
    "BnH_return = np.array(data['return'][start+1:])\n",
    "BnH = np.prod(1+BnH_return)**(252/len(BnH_return)) -1\n",
    "BnH_risk = np.std(BnH_return)*(252)**(1/2)\n"
   ]
  },
  {
   "cell_type": "code",
   "execution_count": 7,
   "id": "f70d94f1-3722-4392-9d45-3540c610b266",
   "metadata": {},
   "outputs": [],
   "source": [
    "# MACD Strategy\n",
    "MACD_return = np.array(data['return'][start+1:])*np.array(data['signal'][start:-1])\n",
    "MACD = np.prod(1+MACD_return)**(252/len(MACD_return)) -1\n",
    "MACD_risk = np.std(MACD_return)*(252)**(1/2)"
   ]
  },
  {
   "cell_type": "code",
   "execution_count": 8,
   "id": "1d1fe780-46c3-47c4-97ca-9290f112c3c9",
   "metadata": {},
   "outputs": [
    {
     "name": "stdout",
     "output_type": "stream",
     "text": [
      "buy/hold strategy return and risk: 39.42% and 30.55%\n",
      "MACD strategy return and risk: 22.47% and 30.61%\n"
     ]
    }
   ],
   "source": [
    "#visualizing the results\n",
    "print('buy/hold strategy return and risk: '+str(round(BnH*100,2))+'% and '+str(round(BnH_risk*100,2))+'%')\n",
    "print('MACD strategy return and risk: '+str(round(MACD*100,2))+'% and '+str(round(MACD_risk*100,2))+'%')"
   ]
  },
  {
   "cell_type": "code",
   "execution_count": 9,
   "id": "3de68589-70b2-4e9e-a3dd-f37f31bfa895",
   "metadata": {},
   "outputs": [
    {
     "data": {
      "text/plain": [
       "[<matplotlib.lines.Line2D at 0x7fc25038c2d0>]"
      ]
     },
     "execution_count": 9,
     "metadata": {},
     "output_type": "execute_result"
    },
    {
     "data": {
      "image/png": "[encoded data removed]",
      "text/plain": [
       "<Figure size 432x288 with 1 Axes>"
      ]
     },
     "metadata": {
      "needs_background": "light"
     },
     "output_type": "display_data"
    }
   ],
   "source": [
    "plt.plot(np.append(1,np.cumprod(1+BnH_return)))\n",
    "plt.plot(np.append(1,np.cumprod(1+MACD_return)))"
   ]
  },
  {
   "cell_type": "code",
   "execution_count": null,
   "id": "a623a8c4-99f6-4609-a201-0dece4fa974c",
   "metadata": {},
   "outputs": [],
   "source": []
  }
 ],
 "metadata": {
  "kernelspec": {
   "display_name": "Python 3 (ipykernel)",
   "language": "python",
   "name": "python3"
  },
  "language_info": {
   "codemirror_mode": {
    "name": "ipython",
    "version": 3
   },
   "file_extension": ".py",
   "mimetype": "text/x-python",
   "name": "python",
   "nbconvert_exporter": "python",
   "pygments_lexer": "ipython3",
   "version": "3.7.11"
  }
 },
 "nbformat": 4,
 "nbformat_minor": 5
}
