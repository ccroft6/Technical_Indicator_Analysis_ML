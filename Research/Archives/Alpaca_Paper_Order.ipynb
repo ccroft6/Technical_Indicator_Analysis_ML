{
 "cells": [
  {
   "cell_type": "code",
   "execution_count": 2,
   "id": "d6147861-2605-4598-bcf1-0a9707e14ea4",
   "metadata": {
    "tags": []
   },
   "outputs": [],
   "source": [
    "import requests\n",
    "import json\n",
    "from config import * "
   ]
  },
  {
   "cell_type": "code",
   "execution_count": 3,
   "id": "4c52e83f-a929-4746-9fa2-37b0d99d32d6",
   "metadata": {},
   "outputs": [],
   "source": [
    "BASE_URL = \"https://paper-api.alpaca.markets\""
   ]
  },
  {
   "cell_type": "code",
   "execution_count": 4,
   "id": "58d7c70d-5d8b-48bb-a094-10879a83d535",
   "metadata": {},
   "outputs": [],
   "source": [
    "ACCOUNT_URL = \"{}/v2/account\".format(BASE_URL)"
   ]
  },
  {
   "cell_type": "code",
   "execution_count": 8,
   "id": "ab93e639-ad71-4065-a62e-2ff1627c8108",
   "metadata": {
    "tags": []
   },
   "outputs": [],
   "source": [
    "ORDERS_URL =  \"{}/V2/orders\".format(BASE_URL)"
   ]
  },
  {
   "cell_type": "code",
   "execution_count": 9,
   "id": "3b32cc65-2af6-43c6-afd0-757027f8dedc",
   "metadata": {},
   "outputs": [],
   "source": [
    "HEADERS = {'APCA-API-KEY-ID': API_KEY, 'APCA-API-SECRET-KEY': SECRET_KEY}  "
   ]
  },
  {
   "cell_type": "code",
   "execution_count": 12,
   "id": "88bf6d76-866e-4598-b5cb-52340758735e",
   "metadata": {},
   "outputs": [],
   "source": [
    "def get_account():\n",
    "    r = requests.get(ACCOUNT_URL, headers=HEADERS)\n",
    "\n",
    "    return json.loads(r.content)"
   ]
  },
  {
   "cell_type": "code",
   "execution_count": 19,
   "id": "9d8a9b0a-1df6-4ba9-944a-04d35408f42b",
   "metadata": {},
   "outputs": [],
   "source": [
    "def create_order(symbol, qty, side, type, time_in_force):\n",
    "    data ={\n",
    "        \"symbol\": symbol,\n",
    "        \"qty\": qty,\n",
    "        \"side\": side,\n",
    "        \"type\": type,\n",
    "        \"time_in_force\": time_in_force\n",
    "}  \n",
    "\n",
    "    r = requests.post(ORDERS_URL,json=data, headers=HEADERS)\n",
    "\n",
    "    return json.loads(r.content)"
   ]
  },
  {
   "cell_type": "code",
   "execution_count": 20,
   "id": "ff1e6262-7cf6-4044-b302-bcbe381cb668",
   "metadata": {},
   "outputs": [],
   "source": [
    "response = create_order(\"AAPL\", 10, \"buy\", \"market\", \"gtc\")"
   ]
  },
  {
   "cell_type": "code",
   "execution_count": 21,
   "id": "531c47ee-0500-419d-8c20-1333bd0d62c0",
   "metadata": {},
   "outputs": [
    {
     "name": "stdout",
     "output_type": "stream",
     "text": [
      "{'id': 'c38274ee-cceb-4cb3-bdfc-4d0a398fdf29', 'client_order_id': '70c6e942-88d4-446e-84a7-d6ec33f040f7', 'created_at': '2022-04-14T21:54:27.818822792Z', 'updated_at': '2022-04-14T21:54:27.818822792Z', 'submitted_at': '2022-04-14T21:54:27.817613272Z', 'filled_at': None, 'expired_at': None, 'canceled_at': None, 'failed_at': None, 'replaced_at': None, 'replaced_by': None, 'replaces': None, 'asset_id': 'b0b6dd9d-8b9b-48a9-ba46-b9d54906e415', 'symbol': 'AAPL', 'asset_class': 'us_equity', 'notional': None, 'qty': '10', 'filled_qty': '0', 'filled_avg_price': None, 'order_class': '', 'order_type': 'market', 'type': 'market', 'side': 'buy', 'time_in_force': 'gtc', 'limit_price': None, 'stop_price': None, 'status': 'accepted', 'extended_hours': False, 'legs': None, 'trail_percent': None, 'trail_price': None, 'hwm': None}\n"
     ]
    }
   ],
   "source": [
    "print(response)"
   ]
  },
  {
   "cell_type": "code",
   "execution_count": null,
   "id": "c1043779-b729-4293-acf4-d5d9833e84cb",
   "metadata": {},
   "outputs": [],
   "source": []
  }
 ],
 "metadata": {
  "kernelspec": {
   "display_name": "Python 3 (ipykernel)",
   "language": "python",
   "name": "python3"
  },
  "language_info": {
   "codemirror_mode": {
    "name": "ipython",
    "version": 3
   },
   "file_extension": ".py",
   "mimetype": "text/x-python",
   "name": "python",
   "nbconvert_exporter": "python",
   "pygments_lexer": "ipython3",
   "version": "3.7.11"
  }
 },
 "nbformat": 4,
 "nbformat_minor": 5
}
